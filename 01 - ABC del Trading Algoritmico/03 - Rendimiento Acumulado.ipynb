{
 "cells": [
  {
   "cell_type": "code",
   "execution_count": null,
   "metadata": {},
   "outputs": [],
   "source": []
  },
  {
   "cell_type": "code",
   "execution_count": null,
   "metadata": {},
   "outputs": [
    {
     "data": {
      "text/plain": [
       "Traceback (most recent call last):\n",
       "  File \"c:\\Users\\user\\.vscode\\extensions\\ms-python.python-2025.0.0-win32-x64\\python_files\\python_server.py\", line 133, in exec_user_input\n",
       "    retval = callable_(user_input, user_globals)\n",
       "  File \"<string>\", line 5, in <module>\n",
       "ModuleNotFoundError: No module named 'matplotlib.plot'\n",
       "\n"
      ]
     },
     "metadata": {},
     "output_type": "display_data"
    }
   ],
   "source": [
    "# importaciones\n",
    "import pandas as pd\n",
    "import numpy as np\n",
    "import yfinance as yf\n",
    "import matplotlib.pyplot as plt"
   ]
  },
  {
   "cell_type": "code",
   "execution_count": null,
   "metadata": {},
   "outputs": [],
   "source": [
    "# Acciones\n",
    "ticker = \"AMZN\""
   ]
  },
  {
   "cell_type": "code",
   "execution_count": null,
   "metadata": {},
   "outputs": [],
   "source": [
    "datos = yf.download(ticker, start=\"2023-01-01\", end=\"2024-01-01\", interval=\"1d\", multi_level_index=False)"
   ]
  },
  {
   "cell_type": "code",
   "execution_count": null,
   "metadata": {},
   "outputs": [],
   "source": [
    "# Calcular el rendimiento Simple\n",
    "datos[\"Rendimiento Simple\"] = datos[\"Close\"].pct_change()"
   ]
  },
  {
   "cell_type": "code",
   "execution_count": null,
   "metadata": {},
   "outputs": [],
   "source": [
    "# Calcular el Rendimineto Logaritmico\n",
    "datos[\"Rendimiento Logaritmico\"] = np.log(datos[\"Close\"] / datos[\"Close\"].shift(periods=1))"
   ]
  },
  {
   "cell_type": "code",
   "execution_count": null,
   "metadata": {},
   "outputs": [],
   "source": [
    "# El Rendimiento acumulado se calcula a traves de la suma de los rendimientos del activo\n",
    "# Calcular el Rendimiento Simple Acumulado\n",
    "# datos[\"Rendimiento Simple Acumulado\"] = datos[\"Rendimiento Simple\"].cumsum() \n",
    "datos[\"Rendimiento Simple Acumulado\"] = (1 + datos[\"Rendimiento Simple\"]).cumprod() - 1\n",
    "\n",
    "# Calcular el Rendimiento Logaritmico Acumulado\n",
    "datos[\"Rendimiento Logaritmico Acumulado\"] = np.exp(datos[\"Rendimiento Logaritmico\"].cumsum()) - 1"
   ]
  },
  {
   "cell_type": "code",
   "execution_count": null,
   "metadata": {},
   "outputs": [
    {
     "data": {
      "text/plain": [
       "Datos con Rendimiento Simple y Logaritmico Acumulado\n",
       "            Rendimiento Simple Acumulado  Rendimiento Logaritmico Acumulado\n",
       "Date                                                                       \n",
       "2023-01-03                           NaN                                NaN\n",
       "2023-01-04                     -0.007924                          -0.007924\n",
       "2023-01-05                     -0.031461                          -0.031461\n",
       "2023-01-06                      0.003030                           0.003030\n",
       "2023-01-09                      0.017945                           0.017945\n"
      ]
     },
     "metadata": {},
     "output_type": "display_data"
    }
   ],
   "source": [
    "# Mostrar los primeros registros\n",
    "print(\"Datos con Rendimiento Simple y Logaritmico Acumulado\")\n",
    "print(datos[[\"Rendimiento Simple Acumulado\",\"Rendimiento Logaritmico Acumulado\"]].head())"
   ]
  },
  {
   "cell_type": "code",
   "execution_count": null,
   "metadata": {},
   "outputs": [
    {
     "data": {
      "text/plain": [
       "Price           Close  ... Rendimiento Logaritmico Acumulado\n",
       "Ticker           AMZN  ...                                  \n",
       "Date                   ...                                  \n",
       "2023-01-03  85.820000  ...                               NaN\n",
       "2023-01-04  85.139999  ...                               NaN\n",
       "2023-01-05  83.120003  ...                               NaN\n",
       "2023-01-06  86.080002  ...                               NaN\n",
       "2023-01-09  87.360001  ...                               NaN\n",
       "\n",
       "[5 rows x 9 columns]\n"
      ]
     },
     "metadata": {},
     "output_type": "display_data"
    }
   ],
   "source": [
    "datos.head()"
   ]
  },
  {
   "cell_type": "code",
   "execution_count": null,
   "metadata": {},
   "outputs": [],
   "source": [
    "# Graficas\n",
    "plt.figure(figsize=(14,7))\n",
    "\n",
    "# Graficas de Rendimiento Simple Acumulado\n",
    "plt.subplot(2,1,1)\n",
    "plt.plot(datos.index, datos[\"Rendimiento Simple Acumulado\"], label=\"Rendimiento Simple Acumulado\", color=\"blue\")\n",
    "plt.xlabel(\"Fecha\")\n",
    "plt.ylabel(\"Rendimiento Simple Acumulado\")\n",
    "plt.title(\"Rendimiento Simple Acumulado\")\n",
    "plt.legend()\n",
    "\n",
    "# Graficas de Rendimiento Logaritmico Acumulado\n",
    "plt.subplot(2,1,2)\n",
    "plt.plot(datos.index, datos[\"Rendimiento Logaritmico Acumulado\"], label=\"Rendimiento Logaritmico Acumulado\", color=\"red\")\n",
    "plt.xlabel(\"Fecha\")\n",
    "plt.ylabel(\"Rendimiento Logaritmico Acumulado\")\n",
    "plt.title(\"Rendimiento Logaritmico Acumulado\")\n",
    "plt.legend()\n",
    "\n",
    "plt.tight_layout()\n",
    "plt.show();"
   ]
  },
  {
   "cell_type": "code",
   "execution_count": null,
   "metadata": {},
   "outputs": [],
   "source": [
    "# Recordatorio:\n",
    "#   - El Rendimiento Acumulado representa el crecimiento total de una inversión a lo largo de un periodo.\n",
    "#     Calculado a partir del rendimiento diario compuesto, nos permite observar como se ha acumulado el rendimiento total,\n",
    "#     considerando los efectos de la capitalización de los rendimientos diarios a lo largo del tiempo.\n"
   ]
  },
  {
   "cell_type": "code",
   "execution_count": null,
   "metadata": {},
   "outputs": [],
   "source": []
  },
  {
   "cell_type": "code",
   "execution_count": null,
   "metadata": {},
   "outputs": [],
   "source": []
  }
 ],
 "metadata": {
  "language_info": {
   "name": "python"
  }
 },
 "nbformat": 4,
 "nbformat_minor": 2
}
