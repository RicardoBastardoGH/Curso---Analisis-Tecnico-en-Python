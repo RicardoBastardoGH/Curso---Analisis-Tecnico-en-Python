{
 "cells": [
  {
   "cell_type": "code",
   "execution_count": null,
   "metadata": {},
   "outputs": [],
   "source": [
    "import datetime\n",
    "import os\n",
    "import yfinance as yf\n",
    "import pandas as pd\n",
    "import matplotlib.pyplot as plt"
   ]
  },
  {
   "cell_type": "code",
   "execution_count": null,
   "metadata": {},
   "outputs": [],
   "source": [
    "# Configuracion de parametros\n",
    "ticker = \"AAPL\"\n",
    "fecha_inicio = \"2023-01-01\"\n",
    "fecha_final = \"2024-01-01\"\n",
    "intervalo = \"1d\""
   ]
  },
  {
   "cell_type": "code",
   "execution_count": null,
   "metadata": {},
   "outputs": [
    {
     "data": {
      "text/plain": [
       "YF.download() has changed argument auto_adjust default to True\n"
      ]
     },
     "metadata": {},
     "output_type": "display_data"
    }
   ],
   "source": [
    "# Descargar datos historicos de Yahoo Finance\n",
    "datos = yf.download(ticker, start=fecha_inicio, end=fecha_final, interval=intervalo)\n"
   ]
  },
  {
   "cell_type": "code",
   "execution_count": null,
   "metadata": {},
   "outputs": [
    {
     "data": {
      "text/plain": [
       "Datos Históricos:\n",
       "Price            Close        High         Low        Open     Volume\n",
       "Ticker            AAPL        AAPL        AAPL        AAPL       AAPL\n",
       "Date                                                                 \n",
       "2023-01-03  123.632538  129.395526  122.742880  128.782657  112117500\n",
       "2023-01-04  124.907715  127.181283  123.642427  125.431622   89113600\n",
       "2023-01-05  123.583107  126.301500  123.326101  125.668857   80962700\n",
       "2023-01-06  128.130203  128.792501  123.454572  124.561702   87754700\n",
       "2023-01-09  128.654144  131.876686  128.397138  128.970474   70790800\n"
      ]
     },
     "metadata": {},
     "output_type": "display_data"
    }
   ],
   "source": [
    "# Mostrar los primeros registros\n",
    "print(\"Datos Históricos:\")\n",
    "print(datos.head())"
   ]
  },
  {
   "cell_type": "code",
   "execution_count": null,
   "metadata": {},
   "outputs": [],
   "source": [
    "# Guardar los datos\n",
    "if not os.path.isdir(\"../datos\"):\n",
    "    os.mkdir(\"../datos\")\n",
    "\n",
    "datos.to_csv(\"../datos/datos_historicos.csv\")"
   ]
  },
  {
   "cell_type": "markdown",
   "metadata": {},
   "source": [
    "# Intervalos disponibles y sus limitaciones:\n",
    "\n",
    "# |----------|------------|--------------|    \n",
    "# |  Código  |   Tiempo   |  Limitación  |\n",
    "# |----------|------------|--------------|\n",
    "# |   1m     | 1 minuto   |    7 días    |\n",
    "# |----------|------------|--------------|\n",
    "# |   2m     | 2 minutos  |    60 días   |\n",
    "# |----------|------------|--------------|\n",
    "# |   5m     | 5 minutos  |    60 días   |\n",
    "# |----------|------------|--------------|\n",
    "# |   15m    | 15 minutos |    60 días   |\n",
    "# |----------|------------|--------------|\n",
    "# |   30m    | 30 minutos |    60 días   |\n",
    "# |----------|------------|--------------|\n",
    "# |   60m    | 1 hora     |    730 días  |\n",
    "# |----------|------------|--------------|\n",
    "# |   90m    | 90 minutos |    60 días   |\n",
    "# |----------|------------|--------------|\n",
    "# |   1h     | 1 hora     |    730 días  |\n",
    "# |----------|------------|--------------|\n",
    "# |   1d     | 1 día      |    Ninguna   |\n",
    "# |----------|------------|--------------|\n",
    "# |   5d     | 5 días     |    Ninguna   |\n",
    "# |----------|------------|--------------|\n",
    "# |   1wk    | 1 semana   |    Ninguna   |\n",
    "# |----------|------------|--------------|\n",
    "# |   1mo    | 1 mes      |    Ninguna   |\n",
    "# |----------|------------|--------------|\n",
    "# |   3mo    | 3 meses    |    Ninguna   |\n",
    "# |----------|------------|--------------|"
   ]
  },
  {
   "cell_type": "code",
   "execution_count": null,
   "metadata": {},
   "outputs": [],
   "source": [
    "# Ejemplos de uso de dieferntes activos e intervalos de tiempo"
   ]
  },
  {
   "cell_type": "code",
   "execution_count": null,
   "metadata": {},
   "outputs": [
    {
     "data": {
      "text/plain": [
       "Datos de 1 minuto:\n",
       "Price                         Close      High       Low      Open   Volume\n",
       "Ticker                     EURUSD=X  EURUSD=X  EURUSD=X  EURUSD=X EURUSD=X\n",
       "Datetime                                                                  \n",
       "2025-02-24 21:34:00+00:00  1.046792  1.046792  1.046792  1.046792        0\n",
       "2025-02-24 21:35:00+00:00  1.046792  1.046792  1.046792  1.046792        0\n",
       "2025-02-24 21:36:00+00:00  1.046901  1.046901  1.046901  1.046901        0\n",
       "2025-02-24 21:37:00+00:00  1.046901  1.046901  1.046901  1.046901        0\n",
       "2025-02-24 21:38:00+00:00  1.046901  1.046901  1.046901  1.046901        0\n",
       "...                             ...       ...       ...       ...      ...\n",
       "2025-03-03 21:29:00+00:00  1.049318  1.049318  1.049318  1.049318        0\n",
       "2025-03-03 21:30:00+00:00  1.049538  1.049538  1.049538  1.049538        0\n",
       "2025-03-03 21:31:00+00:00  1.049428  1.049428  1.049428  1.049428        0\n",
       "2025-03-03 21:32:00+00:00  1.049318  1.049318  1.049318  1.049318        0\n",
       "2025-03-03 21:33:00+00:00  1.049318  1.049318  1.049318  1.049318        0\n",
       "\n",
       "[7104 rows x 5 columns]\n"
      ]
     },
     "metadata": {},
     "output_type": "display_data"
    }
   ],
   "source": [
    "# Ejemplo 1: Descargar datos con intervalo de 1 minuto (limitado a aproximadamente 7 días)\n",
    "intervalo_1m = yf.download(tickers=\"EURUSD=X\", interval=\"1m\")\n",
    "print(\"Datos de 1 minuto:\")\n",
    "print(intervalo_1m)"
   ]
  },
  {
   "cell_type": "code",
   "execution_count": null,
   "metadata": {},
   "outputs": [
    {
     "data": {
      "text/plain": [
       "2025-03-03\n",
       "2025-02-01\n",
       "Datos de 15 minutos:\n",
       "Price                              Close  ...      Volume\n",
       "Ticker                           BTC-USD  ...     BTC-USD\n",
       "Datetime                                  ...            \n",
       "2025-02-01 00:00:00+00:00  102522.515625  ...    71462912\n",
       "2025-02-01 00:15:00+00:00  102253.101562  ...           0\n",
       "2025-02-01 00:30:00+00:00  102428.015625  ...    12607488\n",
       "2025-02-01 00:45:00+00:00  102466.007812  ...    47374336\n",
       "2025-02-01 01:00:00+00:00  102577.664062  ...    41566208\n",
       "...                                  ...  ...         ...\n",
       "2025-03-02 22:45:00+00:00   94450.453125  ...   862814208\n",
       "2025-03-02 23:00:00+00:00   94704.648438  ...   756662272\n",
       "2025-03-02 23:15:00+00:00   94277.039062  ...  1045196800\n",
       "2025-03-02 23:30:00+00:00   94379.679688  ...  1221238784\n",
       "2025-03-02 23:45:00+00:00   94098.539062  ...   544387072\n",
       "\n",
       "[2880 rows x 5 columns]\n"
      ]
     },
     "metadata": {},
     "output_type": "display_data"
    }
   ],
   "source": [
    "\n",
    "# Ejemplo 2: Descargar datos con intervalo de 15 minutos (limitado a aproximadamente 60 días)\n",
    "fecha_final = datetime.datetime.now()\n",
    "fecha_inicial = fecha_final - datetime.timedelta(days=30)\n",
    "fecha_final = fecha_final.strftime(\"%Y-%m-%d\")\n",
    "print(fecha_final)\n",
    "fecha_inicial = fecha_inicial.strftime(\"%Y-%m-%d\")\n",
    "print(fecha_inicial)\n",
    "intervalo_15m = yf.download(tickers=\"BTC-USD\", start=fecha_inicial, end=fecha_final, interval=\"15m\")\n",
    "print(\"Datos de 15 minutos:\")\n",
    "print(intervalo_15m)"
   ]
  },
  {
   "cell_type": "code",
   "execution_count": null,
   "metadata": {},
   "outputs": [
    {
     "data": {
      "text/plain": [
       "Datos de 1 hora:\n",
       "Price                              Close  ...      Volume\n",
       "Ticker                           BTC-USD  ...     BTC-USD\n",
       "Datetime                                  ...            \n",
       "2025-02-01 00:00:00+00:00  102466.007812  ...           0\n",
       "2025-02-01 01:00:00+00:00  102553.601562  ...   131158016\n",
       "2025-02-01 02:00:00+00:00  102448.179688  ...           0\n",
       "2025-02-01 03:00:00+00:00  102246.773438  ...           0\n",
       "2025-02-01 04:00:00+00:00  102313.742188  ...           0\n",
       "...                                  ...  ...         ...\n",
       "2025-03-02 19:00:00+00:00   93525.101562  ...  2039693312\n",
       "2025-03-02 20:00:00+00:00   94421.734375  ...  2380861440\n",
       "2025-03-02 21:00:00+00:00   94161.789062  ...  1693671424\n",
       "2025-03-02 22:00:00+00:00   94450.453125  ...  1183977472\n",
       "2025-03-02 23:00:00+00:00   94098.539062  ...   590147584\n",
       "\n",
       "[720 rows x 5 columns]\n"
      ]
     },
     "metadata": {},
     "output_type": "display_data"
    }
   ],
   "source": [
    "# Ejemplo 3: Descargar datos con intervalo de 1 hora (limitado a aproximadamente 720 días)\n",
    "intervalo_1h = yf.download(tickers=\"BTC-USD\", start=fecha_inicial, end=fecha_final, interval=\"1h\")\n",
    "print(\"Datos de 1 hora:\")\n",
    "print(intervalo_1h)"
   ]
  },
  {
   "cell_type": "code",
   "execution_count": null,
   "metadata": {},
   "outputs": [
    {
     "data": {
      "text/plain": [
       "Datos de 1 dia:\n",
       "Price           Close       High        Low       Open  Volume\n",
       "Ticker           CL=F       CL=F       CL=F       CL=F    CL=F\n",
       "Date                                                          \n",
       "2010-01-04  81.510002  81.680000  79.629997  79.629997  263542\n",
       "2010-01-05  81.769997  82.000000  80.949997  81.629997  258887\n",
       "2010-01-06  83.180000  83.519997  80.849998  81.430000  370059\n",
       "2010-01-07  82.660004  83.360001  82.260002  83.199997  246632\n",
       "2010-01-08  82.750000  83.470001  81.800003  82.650002  310377\n",
       "...               ...        ...        ...        ...     ...\n",
       "2024-07-25  78.279999  78.470001  76.040001  77.500000  457288\n",
       "2024-07-26  77.160004  78.599998  76.190002  78.349998  365121\n",
       "2024-07-29  75.809998  77.690002  75.349998  77.300003  362635\n",
       "2024-07-30  74.730003  75.970001  74.589996  75.910004  419478\n",
       "2024-07-31  77.910004  78.660004  75.180000  75.239998  460315\n",
       "\n",
       "[3666 rows x 5 columns]\n"
      ]
     },
     "metadata": {},
     "output_type": "display_data"
    }
   ],
   "source": [
    "# Ejemplo 3 : Descargar datos con intervalo de 1 dia (no hay un límite establecido)\n",
    "intervalo_1d = yf.download(tickers=\"CL=F\", start=\"2010-01-01\", end='2024-08-01', interval=\"1d\")\n",
    "print(\"Datos de 1 dia:\")\n",
    "print(intervalo_1d)"
   ]
  },
  {
   "cell_type": "code",
   "execution_count": null,
   "metadata": {},
   "outputs": [
    {
     "data": {
      "text/plain": [
       "Total de datos historicos:\n",
       "                                 Open        High  ...  Dividends  Stock Splits\n",
       "Date                                               ...                         \n",
       "1980-12-12 00:00:00-05:00    0.098726    0.099155  ...        0.0           0.0\n",
       "1980-12-15 00:00:00-05:00    0.094005    0.094005  ...        0.0           0.0\n",
       "1980-12-16 00:00:00-05:00    0.087136    0.087136  ...        0.0           0.0\n",
       "1980-12-17 00:00:00-05:00    0.088853    0.089282  ...        0.0           0.0\n",
       "1980-12-18 00:00:00-05:00    0.091429    0.091858  ...        0.0           0.0\n",
       "...                               ...         ...  ...        ...           ...\n",
       "2025-02-24 00:00:00-05:00  244.929993  248.860001  ...        0.0           0.0\n",
       "2025-02-25 00:00:00-05:00  248.000000  250.000000  ...        0.0           0.0\n",
       "2025-02-26 00:00:00-05:00  244.330002  244.979996  ...        0.0           0.0\n",
       "2025-02-27 00:00:00-05:00  239.410004  242.460007  ...        0.0           0.0\n",
       "2025-02-28 00:00:00-05:00  236.949997  242.089996  ...        0.0           0.0\n",
       "\n",
       "[11144 rows x 7 columns]\n",
       "Total de datos Dividendos:\n",
       "Date\n",
       "1987-05-11 00:00:00-04:00    0.000536\n",
       "1987-08-10 00:00:00-04:00    0.000536\n",
       "1987-11-17 00:00:00-05:00    0.000714\n",
       "1988-02-12 00:00:00-05:00    0.000714\n",
       "1988-05-16 00:00:00-04:00    0.000714\n",
       "                               ...   \n",
       "2024-02-09 00:00:00-05:00    0.240000\n",
       "2024-05-10 00:00:00-04:00    0.250000\n",
       "2024-08-12 00:00:00-04:00    0.250000\n",
       "2024-11-08 00:00:00-05:00    0.250000\n",
       "2025-02-10 00:00:00-05:00    0.250000\n",
       "Name: Dividends, Length: 86, dtype: float64\n",
       "Total de datos Splits:\n",
       "Date\n",
       "1987-06-16 00:00:00-04:00    2.0\n",
       "2000-06-21 00:00:00-04:00    2.0\n",
       "2005-02-28 00:00:00-05:00    2.0\n",
       "2014-06-09 00:00:00-04:00    7.0\n",
       "2020-08-31 00:00:00-04:00    4.0\n",
       "Name: Stock Splits, dtype: float64\n"
      ]
     },
     "metadata": {},
     "output_type": "display_data"
    }
   ],
   "source": [
    "# Ejemplo 4: Descargar todos los datos historicos para un instrumento\n",
    "accion = yf.Ticker(ticker=ticker)\n",
    "accion_hist = accion.history(period=\"max\", end=fecha_final , interval=\"1d\")\n",
    "print(\"Total de datos historicos:\")\n",
    "print(accion_hist)\n",
    "# Imprimir fechas de Dividendos\n",
    "print(\"Total de datos Dividendos:\")\n",
    "print(accion_hist[\"Dividends\"][accion_hist[\"Dividends\"] != 0.0])\n",
    "# Imprimir Splits\n",
    "print(\"Total de datos Splits:\")\n",
    "print(accion_hist[\"Stock Splits\"][accion_hist[\"Stock Splits\"] != 0.0])"
   ]
  },
  {
   "cell_type": "code",
   "execution_count": null,
   "metadata": {},
   "outputs": [],
   "source": [
    "# Recordatorio:\n",
    "#   - Yahoo Finance es un proveedor de datos históricos por excelencia (es el más utilizado).\n",
    "#   - Yahoo Finance puede limitar la frecuencia de las consultas si se realizan demasiadas peticiones\n",
    "#     en un corto periodo de tiempo."
   ]
  },
  {
   "cell_type": "code",
   "execution_count": null,
   "metadata": {},
   "outputs": [],
   "source": []
  },
  {
   "cell_type": "code",
   "execution_count": null,
   "metadata": {},
   "outputs": [],
   "source": []
  }
 ],
 "metadata": {
  "language_info": {
   "name": "python"
  }
 },
 "nbformat": 4,
 "nbformat_minor": 2
}
