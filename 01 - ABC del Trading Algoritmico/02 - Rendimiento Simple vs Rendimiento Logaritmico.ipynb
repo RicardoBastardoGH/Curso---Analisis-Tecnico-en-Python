{
 "cells": [
  {
   "cell_type": "code",
   "execution_count": null,
   "metadata": {},
   "outputs": [],
   "source": [
    "# Importaciones\n",
    "import yfinance as yf\n",
    "import pandas as pd\n",
    "import numpy as np\n",
    "import matplotlib.pyplot as plt"
   ]
  },
  {
   "cell_type": "code",
   "execution_count": null,
   "metadata": {},
   "outputs": [],
   "source": [
    "# Configuracion de parametros\n",
    "ticker = \"TSLA\"\n",
    "fecha_inicial=\"2023-01-01\"\n",
    "fecha_final=\"2024-01-01\"\n",
    "intervalo = \"1d\""
   ]
  },
  {
   "cell_type": "code",
   "execution_count": null,
   "metadata": {},
   "outputs": [],
   "source": [
    "# Descargar datos\n",
    "datos = yf.download(ticker,start=fecha_inicial, end=fecha_final, interval=intervalo, multi_level_index=False)"
   ]
  },
  {
   "cell_type": "code",
   "execution_count": null,
   "metadata": {},
   "outputs": [],
   "source": [
    "\n",
    "# Calcular el rendimiento simple\n",
    "datos[\"Rendimiento Simple\"] = datos[\"Close\"].pct_change() # datos[\"Cose\"] / datos[\"Cose\"].shift(1) - 1"
   ]
  },
  {
   "cell_type": "code",
   "execution_count": null,
   "metadata": {},
   "outputs": [],
   "source": [
    "# Calcular el rendimiento logaritmico\n",
    "datos[\"Rendimiento Logaritmico\"] = np.log(datos[\"Close\"] / datos[\"Close\"].shift(periods= 1))\n"
   ]
  },
  {
   "cell_type": "code",
   "execution_count": null,
   "metadata": {},
   "outputs": [
    {
     "data": {
      "text/plain": [
       "Datos con Rendimiento Simple y Logaritmico\n",
       "                 Close  Rendimiento Simple  Rendimiento Logaritmico\n",
       "Date                                                               \n",
       "2023-01-03  108.099998                 NaN                      NaN\n",
       "2023-01-04  113.639999            0.051249                 0.049979\n",
       "2023-01-05  110.339996           -0.029039                -0.029469\n",
       "2023-01-06  113.059998            0.024651                 0.024352\n",
       "2023-01-09  119.769997            0.059349                 0.057655\n"
      ]
     },
     "metadata": {},
     "output_type": "display_data"
    }
   ],
   "source": [
    "# Mostrar los primeros registros\n",
    "print(\"Datos con Rendimiento Simple y Logaritmico\")\n",
    "print(datos[[\"Close\",\"Rendimiento Simple\",\"Rendimiento Logaritmico\"]].head())\n"
   ]
  },
  {
   "cell_type": "code",
   "execution_count": null,
   "metadata": {},
   "outputs": [],
   "source": [
    "# Graficas\n",
    "plt.figure(figsize=(14,7))\n",
    "\n",
    "# Graficas de Rendimiento Simple\n",
    "plt.subplot(2,1,1)\n",
    "plt.plot(datos.index, datos[\"Rendimiento Simple\"], label=\"Rendimiento Simple\", color=\"blue\")\n",
    "plt.title(\"Rendimiento Simple\")\n",
    "plt.xlabel(\"Fecha\")\n",
    "plt.ylabel(\"Rendimiento Simple\")\n",
    "plt.legend()\n",
    "\n",
    "# Graficas de Rendimiento Logaritmico \n",
    "plt.subplot(2,1,2)\n",
    "plt.plot(datos.index, datos[\"Rendimiento Logaritmico\"], label=\"Rendimiento Logaritmico\", color=\"green\")\n",
    "plt.xlabel(\"Fecha\")\n",
    "plt.ylabel(\"Rendimiento Logaritmico\")\n",
    "plt.title(\"Rendimiento Logaritmico\")\n",
    "plt.legend()\n",
    "\n",
    "plt.tight_layout()\n",
    "plt.show()"
   ]
  },
  {
   "cell_type": "code",
   "execution_count": null,
   "metadata": {},
   "outputs": [
    {
     "data": {
      "text/plain": [
       "Rendimiento Simple Promedio Anual: 0.9692879239755776\n",
       "Rendimiento Logaritmico Promedio Anual: 1.2986123888523897\n"
      ]
     },
     "metadata": {},
     "output_type": "display_data"
    }
   ],
   "source": [
    "# Comparar la relevancia de cada rendimiento\n",
    "rendimiento_simple_promedio_anual = datos[\"Rendimiento Simple\"].mean() * datos.dropna().shape[0]\n",
    "rendimiento_logaritmico_promedio_anual = np.exp(datos[\"Rendimiento Logaritmico\"].mean() * datos.dropna().shape[0]) - 1\n",
    "print(f\"Rendimiento Simple Promedio Anual: {rendimiento_simple_promedio_anual}\")\n",
    "print(f\"Rendimiento Logaritmico Promedio Anual: {rendimiento_logaritmico_promedio_anual}\")\n"
   ]
  },
  {
   "cell_type": "code",
   "execution_count": null,
   "metadata": {},
   "outputs": [
    {
     "data": {
      "text/plain": [
       "Rendimiento Real Anual: 1.2986123888523888\n"
      ]
     },
     "metadata": {},
     "output_type": "display_data"
    }
   ],
   "source": [
    "# Rendimiento Real\n",
    "rendimiento_real_anual = (datos[\"Close\"][-1] / datos[\"Close\"][0]) - 1\n",
    "print(f\"Rendimiento Real Anual: {rendimiento_real_anual}\")"
   ]
  },
  {
   "cell_type": "code",
   "execution_count": null,
   "metadata": {},
   "outputs": [
    {
     "data": {
      "text/plain": [
       "Rendimiento Simple Hipotetico: Precio    0.4\n",
       "dtype: float64\n",
       "Rendimiento Logaritmico Hipotetico: Precio   -0.2\n",
       "dtype: float64\n"
      ]
     },
     "metadata": {},
     "output_type": "display_data"
    }
   ],
   "source": [
    "# Escenario Hipotetico\n",
    "precios_accion = pd.DataFrame(data=[100,20,40,80], index=[0,1,2,3], columns=[\"Precio\"])\n",
    "rendimiento_simple = precios_accion.pct_change().mean()\n",
    "rendimiento_logaritmico = np.exp(np.log(precios_accion / precios_accion.shift(1)).mean() * (precios_accion.shape[0] - 1)) - 1\n",
    "print(f\"Rendimiento Simple Hipotetico: {rendimiento_simple}\")\n",
    "print(f\"Rendimiento Logaritmico Hipotetico: {rendimiento_logaritmico}\")"
   ]
  },
  {
   "cell_type": "code",
   "execution_count": null,
   "metadata": {},
   "outputs": [],
   "source": [
    "# Recordatorio\n",
    "# Rendimiento Simple = (Precio Final / Precio Inicial) - 1\n",
    "# Rendimiento Logaritmico = ln(Precio Final / Precio Inicial)\n",
    "#   - Rendimiento Simple:\n",
    "#       * Es la tasa de cambio porcentual en el precio de cierre de un activo de un día al siguiente.\n",
    "#       * Es fácil de interpretar y comúnmente utilizado en informes financieros.\n",
    "#       * No es aditivo a lo largo del tiempo, lo que puede complicar el análisis a largo plazo y llevar a conclusiones erróneas.\n",
    "#   - Rendimiento Logarítmico:\n",
    "#       * Es la diferencia logarítmica entre el precio de cierre de un activo de un día al siguiente.\n",
    "#       * Es aditivo a lo largo del tiempo, lo que facilita el análisis de rendimientos acumulados y la modelización de series temporales.\n",
    "#       * A menudo es preferido en análisis cuantitativo y financiero debido a sus propiedades matemáticas.\n"
   ]
  },
  {
   "cell_type": "code",
   "execution_count": null,
   "metadata": {},
   "outputs": [],
   "source": []
  },
  {
   "cell_type": "code",
   "execution_count": null,
   "metadata": {},
   "outputs": [],
   "source": []
  }
 ],
 "metadata": {
  "language_info": {
   "name": "python"
  }
 },
 "nbformat": 4,
 "nbformat_minor": 2
}
