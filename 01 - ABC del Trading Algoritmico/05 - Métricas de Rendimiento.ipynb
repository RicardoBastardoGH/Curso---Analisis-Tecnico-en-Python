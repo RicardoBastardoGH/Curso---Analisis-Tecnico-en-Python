{
 "cells": [
  {
   "cell_type": "code",
   "execution_count": 5,
   "metadata": {},
   "outputs": [],
   "source": [
    "# Importar librerias\n",
    "import yfinance as yf\n",
    "import matplotlib.pyplot as plt\n",
    "import statsmodels.api as sm # pip install statsmodels\n",
    "from datetime import timedelta"
   ]
  },
  {
   "cell_type": "code",
   "execution_count": 6,
   "metadata": {},
   "outputs": [],
   "source": [
    "# Parametros de descarga\n",
    "ticker = \"TSLA\"\n",
    "benchmark_ticker = \"^GSPC\" # Ticker de indice de referencia (S&P500)\n",
    "fecha_inicial = \"2020-01-01\"\n",
    "fecha_final = \"2024-01-01\""
   ]
  },
  {
   "cell_type": "code",
   "execution_count": 7,
   "metadata": {},
   "outputs": [
    {
     "name": "stdout",
     "output_type": "stream",
     "text": [
      "YF.download() has changed argument auto_adjust default to True\n"
     ]
    },
    {
     "name": "stderr",
     "output_type": "stream",
     "text": [
      "[*********************100%***********************]  1 of 1 completed\n",
      "[*********************100%***********************]  1 of 1 completed\n"
     ]
    }
   ],
   "source": [
    "# Descargar Datos\n",
    "datos = yf.download(ticker, start=fecha_inicial, end=fecha_final, interval=\"1d\", multi_level_index=False)\n",
    "benchmark = yf.download(benchmark_ticker, start=fecha_inicial, end=fecha_final, interval=\"1d\", multi_level_index=False)"
   ]
  },
  {
   "cell_type": "code",
   "execution_count": 8,
   "metadata": {},
   "outputs": [
    {
     "data": {
      "text/html": [
       "<div>\n",
       "<style scoped>\n",
       "    .dataframe tbody tr th:only-of-type {\n",
       "        vertical-align: middle;\n",
       "    }\n",
       "\n",
       "    .dataframe tbody tr th {\n",
       "        vertical-align: top;\n",
       "    }\n",
       "\n",
       "    .dataframe thead th {\n",
       "        text-align: right;\n",
       "    }\n",
       "</style>\n",
       "<table border=\"1\" class=\"dataframe\">\n",
       "  <thead>\n",
       "    <tr style=\"text-align: right;\">\n",
       "      <th></th>\n",
       "      <th>Close</th>\n",
       "      <th>High</th>\n",
       "      <th>Low</th>\n",
       "      <th>Open</th>\n",
       "      <th>Volume</th>\n",
       "      <th>Rendimiento</th>\n",
       "    </tr>\n",
       "    <tr>\n",
       "      <th>Date</th>\n",
       "      <th></th>\n",
       "      <th></th>\n",
       "      <th></th>\n",
       "      <th></th>\n",
       "      <th></th>\n",
       "      <th></th>\n",
       "    </tr>\n",
       "  </thead>\n",
       "  <tbody>\n",
       "    <tr>\n",
       "      <th>2020-01-03</th>\n",
       "      <td>3234.850098</td>\n",
       "      <td>3246.149902</td>\n",
       "      <td>3222.340088</td>\n",
       "      <td>3226.360107</td>\n",
       "      <td>3484700000</td>\n",
       "      <td>-0.007060</td>\n",
       "    </tr>\n",
       "    <tr>\n",
       "      <th>2020-01-06</th>\n",
       "      <td>3246.280029</td>\n",
       "      <td>3246.840088</td>\n",
       "      <td>3214.639893</td>\n",
       "      <td>3217.550049</td>\n",
       "      <td>3702460000</td>\n",
       "      <td>0.003533</td>\n",
       "    </tr>\n",
       "    <tr>\n",
       "      <th>2020-01-07</th>\n",
       "      <td>3237.179932</td>\n",
       "      <td>3244.909912</td>\n",
       "      <td>3232.429932</td>\n",
       "      <td>3241.860107</td>\n",
       "      <td>3435910000</td>\n",
       "      <td>-0.002803</td>\n",
       "    </tr>\n",
       "    <tr>\n",
       "      <th>2020-01-08</th>\n",
       "      <td>3253.050049</td>\n",
       "      <td>3267.070068</td>\n",
       "      <td>3236.669922</td>\n",
       "      <td>3238.590088</td>\n",
       "      <td>3726840000</td>\n",
       "      <td>0.004902</td>\n",
       "    </tr>\n",
       "    <tr>\n",
       "      <th>2020-01-09</th>\n",
       "      <td>3274.699951</td>\n",
       "      <td>3275.580078</td>\n",
       "      <td>3263.669922</td>\n",
       "      <td>3266.030029</td>\n",
       "      <td>3641230000</td>\n",
       "      <td>0.006655</td>\n",
       "    </tr>\n",
       "    <tr>\n",
       "      <th>...</th>\n",
       "      <td>...</td>\n",
       "      <td>...</td>\n",
       "      <td>...</td>\n",
       "      <td>...</td>\n",
       "      <td>...</td>\n",
       "      <td>...</td>\n",
       "    </tr>\n",
       "    <tr>\n",
       "      <th>2023-12-22</th>\n",
       "      <td>4754.629883</td>\n",
       "      <td>4772.939941</td>\n",
       "      <td>4736.770020</td>\n",
       "      <td>4753.919922</td>\n",
       "      <td>3046770000</td>\n",
       "      <td>0.001660</td>\n",
       "    </tr>\n",
       "    <tr>\n",
       "      <th>2023-12-26</th>\n",
       "      <td>4774.750000</td>\n",
       "      <td>4784.720215</td>\n",
       "      <td>4758.450195</td>\n",
       "      <td>4758.859863</td>\n",
       "      <td>2513910000</td>\n",
       "      <td>0.004232</td>\n",
       "    </tr>\n",
       "    <tr>\n",
       "      <th>2023-12-27</th>\n",
       "      <td>4781.580078</td>\n",
       "      <td>4785.390137</td>\n",
       "      <td>4768.899902</td>\n",
       "      <td>4773.450195</td>\n",
       "      <td>2748450000</td>\n",
       "      <td>0.001430</td>\n",
       "    </tr>\n",
       "    <tr>\n",
       "      <th>2023-12-28</th>\n",
       "      <td>4783.350098</td>\n",
       "      <td>4793.299805</td>\n",
       "      <td>4780.979980</td>\n",
       "      <td>4786.439941</td>\n",
       "      <td>2698860000</td>\n",
       "      <td>0.000370</td>\n",
       "    </tr>\n",
       "    <tr>\n",
       "      <th>2023-12-29</th>\n",
       "      <td>4769.830078</td>\n",
       "      <td>4788.430176</td>\n",
       "      <td>4751.990234</td>\n",
       "      <td>4782.879883</td>\n",
       "      <td>3126060000</td>\n",
       "      <td>-0.002826</td>\n",
       "    </tr>\n",
       "  </tbody>\n",
       "</table>\n",
       "<p>1005 rows × 6 columns</p>\n",
       "</div>"
      ],
      "text/plain": [
       "                  Close         High          Low         Open      Volume  \\\n",
       "Date                                                                         \n",
       "2020-01-03  3234.850098  3246.149902  3222.340088  3226.360107  3484700000   \n",
       "2020-01-06  3246.280029  3246.840088  3214.639893  3217.550049  3702460000   \n",
       "2020-01-07  3237.179932  3244.909912  3232.429932  3241.860107  3435910000   \n",
       "2020-01-08  3253.050049  3267.070068  3236.669922  3238.590088  3726840000   \n",
       "2020-01-09  3274.699951  3275.580078  3263.669922  3266.030029  3641230000   \n",
       "...                 ...          ...          ...          ...         ...   \n",
       "2023-12-22  4754.629883  4772.939941  4736.770020  4753.919922  3046770000   \n",
       "2023-12-26  4774.750000  4784.720215  4758.450195  4758.859863  2513910000   \n",
       "2023-12-27  4781.580078  4785.390137  4768.899902  4773.450195  2748450000   \n",
       "2023-12-28  4783.350098  4793.299805  4780.979980  4786.439941  2698860000   \n",
       "2023-12-29  4769.830078  4788.430176  4751.990234  4782.879883  3126060000   \n",
       "\n",
       "            Rendimiento  \n",
       "Date                     \n",
       "2020-01-03    -0.007060  \n",
       "2020-01-06     0.003533  \n",
       "2020-01-07    -0.002803  \n",
       "2020-01-08     0.004902  \n",
       "2020-01-09     0.006655  \n",
       "...                 ...  \n",
       "2023-12-22     0.001660  \n",
       "2023-12-26     0.004232  \n",
       "2023-12-27     0.001430  \n",
       "2023-12-28     0.000370  \n",
       "2023-12-29    -0.002826  \n",
       "\n",
       "[1005 rows x 6 columns]"
      ]
     },
     "execution_count": 8,
     "metadata": {},
     "output_type": "execute_result"
    }
   ],
   "source": [
    "# Calcular los rendimientos diarios\n",
    "datos[\"Rendimiento\"] = datos[\"Close\"].pct_change()\n",
    "benchmark[\"Rendimiento\"] = benchmark[\"Close\"].pct_change()\n",
    "datos.dropna()\n",
    "benchmark.dropna()"
   ]
  },
  {
   "cell_type": "code",
   "execution_count": 9,
   "metadata": {},
   "outputs": [],
   "source": [
    "# Calcular MDD Max DRAWDOWN. \n",
    "# La maxima perdida es la caída máxima que experimenta una inversión durante un periodo determinado. \n",
    "# Es un indicador financiero que se utiliza para medir el riesgo de un activo. \n",
    "def max_drawdown(rendimientos):\n",
    "    \n",
    "    \"\"\"\n",
    "    Calcula la máxima pérdida de una serie de rendimientos\n",
    "    \"\"\"\n",
    "    \n",
    "    # Calcular\n",
    "    capital_acumulado = (1 + rendimientos).cumprod()\n",
    "    maximo_acumulado = capital_acumulado.cummax()\n",
    "    drawdown = (maximo_acumulado - capital_acumulado) / maximo_acumulado\n",
    "    maxima_perdida_valor = drawdown.max()\n",
    "    \n",
    "    # Encontrar el punto más alto y el punto más bajo del drawdown\n",
    "    fecha_final = drawdown.idxmax()\n",
    "    fecha_maxima = capital_acumulado[:fecha_final].idxmax()\n",
    "    \n",
    "    return maxima_perdida_valor, capital_acumulado, drawdown, fecha_maxima, fecha_final"
   ]
  },
  {
   "cell_type": "code",
   "execution_count": 12,
   "metadata": {},
   "outputs": [],
   "source": [
    "maxima_perdida_accion, capital_acumulado, drawdown, fecha_maxima, fecha_final = max_drawdown(datos[\"Rendimiento\"])\n"
   ]
  },
  {
   "cell_type": "code",
   "execution_count": 13,
   "metadata": {},
   "outputs": [
    {
     "name": "stdout",
     "output_type": "stream",
     "text": [
      "Máxima Pérdida de TSLA: 73.63%\n"
     ]
    }
   ],
   "source": [
    "# print(f\"Maxima Perdida de {ticker}: {maxima_perdida_accion:.2%}\")\n",
    "print(f\"Máxima Pérdida de {ticker}: {maxima_perdida_accion:.2%}\")"
   ]
  },
  {
   "cell_type": "code",
   "execution_count": 14,
   "metadata": {},
   "outputs": [
    {
     "name": "stdout",
     "output_type": "stream",
     "text": [
      "\n",
      "La Máxima Pérdida es la mayor pérdida desde un punto alto hasta un punto bajo durante el periodo analizado.\n",
      "En este caso, la Máxima Pérdida del ticker: TSLA es 73.63%.\n",
      "Esto indica la mayor caída en el valor de la acción desde un máxima histórico durante el periodo de estudio.\n",
      "      \n"
     ]
    }
   ],
   "source": [
    "# Comentario explicativo\n",
    "print(f\"\"\"\n",
    "La Máxima Pérdida es la mayor pérdida desde un punto alto hasta un punto bajo durante el periodo analizado.\n",
    "En este caso, la Máxima Pérdida del ticker: {ticker} es {maxima_perdida_accion:.2%}.\n",
    "Esto indica la mayor caída en el valor de la acción desde un máxima histórico durante el periodo de estudio.\n",
    "      \"\"\")"
   ]
  },
  {
   "cell_type": "code",
   "execution_count": null,
   "metadata": {},
   "outputs": [],
   "source": [
    "# Graficar la maxima perdida\n",
    "plt.figure(figsize=(22,8))\n",
    "plt.plot(datos.index, capital_acumulado, label=\"Rendimiento Acumulado\", color=\"blue\")\n",
    "plt.plot(datos.index, capital_acumulado - drawdown *capital_acumulado, label=\"Drawdown\", color=\"red\", linestyle=\"--\")\n",
    "\n",
    "# Resaltar el área de Máxima Pérdida desde el punto más alto hasta el más bajo\n",
    "\n"
   ]
  },
  {
   "cell_type": "code",
   "execution_count": null,
   "metadata": {},
   "outputs": [],
   "source": []
  },
  {
   "cell_type": "code",
   "execution_count": null,
   "metadata": {},
   "outputs": [],
   "source": []
  },
  {
   "cell_type": "code",
   "execution_count": null,
   "metadata": {},
   "outputs": [],
   "source": []
  }
 ],
 "metadata": {
  "kernelspec": {
   "display_name": "base",
   "language": "python",
   "name": "python3"
  },
  "language_info": {
   "codemirror_mode": {
    "name": "ipython",
    "version": 3
   },
   "file_extension": ".py",
   "mimetype": "text/x-python",
   "name": "python",
   "nbconvert_exporter": "python",
   "pygments_lexer": "ipython3",
   "version": "3.10.16"
  }
 },
 "nbformat": 4,
 "nbformat_minor": 2
}
